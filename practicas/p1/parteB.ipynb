{
 "cells": [
  {
   "cell_type": "markdown",
   "metadata": {},
   "source": [
    "# Parte B"
   ]
  },
  {
   "cell_type": "code",
   "execution_count": 15,
   "metadata": {},
   "outputs": [
    {
     "name": "stdout",
     "output_type": "stream",
     "text": [
      "Computing the pearson similarity matrix...\n",
      "Done computing similarity matrix.\n",
      "RMSE: 1.0147\n",
      "Metrica de precisión de Pearson basado en usuarios: 1.0147146327200522\n"
     ]
    }
   ],
   "source": [
    "from surprise import SVD\n",
    "from surprise import Dataset\n",
    "from surprise.model_selection import train_test_split\n",
    "from surprise import similarities\n",
    "from surprise import KNNBasic\n",
    "from surprise import accuracy\n",
    "\n",
    "SEED = 854\n",
    "\n",
    "data = Dataset.load_builtin('ml-100k')\n",
    "\n",
    "trainset, testset = train_test_split(data, test_size=0.25, random_state=SEED)\n",
    "\n",
    "model_user= KNNBasic(sim_options={'name': 'pearson'})\n",
    "model_user.fit(trainset)\n",
    "# Hacer predicciones\n",
    "predictions_user = model_user.test(testset)\n",
    "\n",
    "# Evaluar precisión\n",
    "print(\"Metrica de precisión de Pearson basado en usuarios:\", accuracy.rmse(predictions_user))"
   ]
  },
  {
   "cell_type": "code",
   "execution_count": 17,
   "metadata": {},
   "outputs": [
    {
     "name": "stdout",
     "output_type": "stream",
     "text": [
      "Computing the pearson similarity matrix...\n",
      "Done computing similarity matrix.\n",
      "RMSE: 1.0493\n",
      "Metrica de precisión basado en productos: 1.049260092631482\n"
     ]
    }
   ],
   "source": [
    "model_product= KNNBasic(sim_options={'name': 'pearson', 'user_based': False})\n",
    "model_product.fit(trainset)\n",
    "# Hacer predicciones\n",
    "predictions_product = model_product.test(testset)\n",
    "\n",
    "# Evaluar precisión\n",
    "print(\"Metrica de precisión basado en productos:\", accuracy.rmse(predictions_product))"
   ]
  },
  {
   "cell_type": "code",
   "execution_count": 19,
   "metadata": {},
   "outputs": [
    {
     "name": "stdout",
     "output_type": "stream",
     "text": [
      "RMSE: 0.9441\n",
      "Metrica de precisión por SVD: 0.9441426531437759\n"
     ]
    }
   ],
   "source": [
    "svd = SVD()\n",
    "svd.fit(trainset)\n",
    "sbd_prediction = svd.test(testset)\n",
    "\n",
    "print(\"Metrica de precisión por SVD:\", accuracy.rmse(sbd_prediction))"
   ]
  }
 ],
 "metadata": {
  "kernelspec": {
   "display_name": ".venv",
   "language": "python",
   "name": "python3"
  },
  "language_info": {
   "codemirror_mode": {
    "name": "ipython",
    "version": 3
   },
   "file_extension": ".py",
   "mimetype": "text/x-python",
   "name": "python",
   "nbconvert_exporter": "python",
   "pygments_lexer": "ipython3",
   "version": "3.11.2"
  }
 },
 "nbformat": 4,
 "nbformat_minor": 2
}
