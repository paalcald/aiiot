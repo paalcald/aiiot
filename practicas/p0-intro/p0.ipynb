{
 "cells": [
  {
   "cell_type": "code",
   "execution_count": 6,
   "metadata": {},
   "outputs": [],
   "source": [
    "from random import uniform\n",
    "import numpy as np\n",
    "import monte_carlo\n",
    "from typing import Callable\n",
    "\n",
    "def integra_mc(fun: Callable[[float],float], a: float, b :float, num_puntos=10000) -> float:\n",
    "    ys = [fun(uniform(a,b)) for i in range(num_puntos)]\n",
    "    ymax = max(ys)\n",
    "    count = sum(uniform(0,ymax) < y for y in ys)\n",
    "    area = (b - a) * ymax * count / num_puntos\n",
    "    return area\n",
    "\n",
    "def np_integra_mc(fun: Callable[[float],float], a: float, b :float, num_puntos=10000) -> float:\n",
    "    xs = np.random.uniform(a, b, num_puntos)\n",
    "    try:\n",
    "        ys = fun(xs)\n",
    "    except:\n",
    "        vfun = np.vectorize(fun)\n",
    "        ys = vfun(xs)\n",
    "    ymax = np.max(ys)\n",
    "    count = (ys > np.random.uniform(0, ymax)).sum()\n",
    "    area = (b - a) * ymax * count / num_puntos\n",
    "    return area"
   ]
  },
  {
   "cell_type": "code",
   "execution_count": 10,
   "metadata": {},
   "outputs": [
    {
     "data": {
      "text/plain": [
       "0.8329791327513981"
      ]
     },
     "execution_count": 10,
     "metadata": {},
     "output_type": "execute_result"
    }
   ],
   "source": [
    "integra_mc(lambda x: x **2 + 1 if x > .5 else x**2, 0, 1, 1000000)"
   ]
  },
  {
   "cell_type": "code",
   "execution_count": 9,
   "metadata": {},
   "outputs": [
    {
     "data": {
      "text/plain": [
       "np.float64(1.000481451913928)"
      ]
     },
     "execution_count": 9,
     "metadata": {},
     "output_type": "execute_result"
    }
   ],
   "source": [
    "np_integra_mc(lambda x: x **2 + 1 if x > .5 else x**2, 0, 1, 1000000)"
   ]
  },
  {
   "cell_type": "code",
   "execution_count": 11,
   "metadata": {},
   "outputs": [
    {
     "data": {
      "text/plain": [
       "0.8327370487912911"
      ]
     },
     "execution_count": 11,
     "metadata": {},
     "output_type": "execute_result"
    }
   ],
   "source": [
    "monte_carlo.integra_mc(lambda x: x **2 + 1 if x > .5 else x**2, 0, 1, 1000000)\n"
   ]
  }
 ],
 "metadata": {
  "kernelspec": {
   "display_name": "iaiot",
   "language": "python",
   "name": "python3"
  },
  "language_info": {
   "codemirror_mode": {
    "name": "ipython",
    "version": 3
   },
   "file_extension": ".py",
   "mimetype": "text/x-python",
   "name": "python",
   "nbconvert_exporter": "python",
   "pygments_lexer": "ipython3",
   "version": "3.12.3"
  }
 },
 "nbformat": 4,
 "nbformat_minor": 2
}
